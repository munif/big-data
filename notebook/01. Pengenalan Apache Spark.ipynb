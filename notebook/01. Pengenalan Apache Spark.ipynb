{
 "cells": [
  {
   "cell_type": "markdown",
   "metadata": {},
   "source": [
    "## Requirements\n",
    "1. Apache Spark binary (https://spark.apache.org/)\n",
    "2. For Windows: winutils (https://medium.com/@dvainrub/how-to-install-apache-spark-2-x-in-your-pc-e2047246ffc3)\n",
    "3. Setting ```JAVA_HOME```, ```SPARK_HOME```, and ```HADOOP_HOME```\n",
    "4. Python 3.x (from Anaconda distribution)\n",
    "5. ```findspark``` https://pypi.org/project/findspark/\n",
    "6. Jupyter Notebook (available from Anaconda installation)\n",
    "\n",
    "### References\n",
    "https://spark.apache.org/docs/2.3.3/sql-programming-guide.html"
   ]
  },
  {
   "cell_type": "markdown",
   "metadata": {},
   "source": [
    "## Spark Initialization"
   ]
  },
  {
   "cell_type": "code",
   "execution_count": 1,
   "metadata": {},
   "outputs": [],
   "source": [
    "# Import findspark to read SPARK_HOME and HADOOP_HOME\n",
    "import findspark\n",
    "\n",
    "findspark.init()"
   ]
  },
  {
   "cell_type": "code",
   "execution_count": 3,
   "metadata": {},
   "outputs": [
    {
     "name": "stdout",
     "output_type": "stream",
     "text": [
      "<pyspark.sql.session.SparkSession object at 0x000001E5CD818F60>\n"
     ]
    }
   ],
   "source": [
    "# Import required library\n",
    "from pyspark.sql import SparkSession\n",
    "\n",
    "# Create Spark Session\n",
    "spark = SparkSession \\\n",
    "    .builder \\\n",
    "    .appName(\"Python Spark SQL basic example\") \\\n",
    "    .getOrCreate()\n",
    "\n",
    "print(spark)"
   ]
  },
  {
   "cell_type": "markdown",
   "metadata": {},
   "source": [
    "## Loading Data using Spark"
   ]
  },
  {
   "cell_type": "code",
   "execution_count": 5,
   "metadata": {},
   "outputs": [],
   "source": [
    "df = spark.read.json(\"D://spark-2.3.1-bin-hadoop2.7//examples//src//main//resources//people.json\")"
   ]
  },
  {
   "cell_type": "code",
   "execution_count": 6,
   "metadata": {},
   "outputs": [
    {
     "name": "stdout",
     "output_type": "stream",
     "text": [
      "+----+-------+\n",
      "| age|   name|\n",
      "+----+-------+\n",
      "|null|Michael|\n",
      "|  30|   Andy|\n",
      "|  19| Justin|\n",
      "+----+-------+\n",
      "\n"
     ]
    }
   ],
   "source": [
    "df.show()"
   ]
  },
  {
   "cell_type": "code",
   "execution_count": 8,
   "metadata": {},
   "outputs": [],
   "source": [
    "df2 = spark.read.csv(\"D:/Documents/dataset/Uber-Jan-Feb-FOIL.csv\", header=True, inferSchema=True)"
   ]
  },
  {
   "cell_type": "code",
   "execution_count": 9,
   "metadata": {},
   "outputs": [
    {
     "name": "stdout",
     "output_type": "stream",
     "text": [
      "+-----------------------+--------+---------------+-----+\n",
      "|dispatching_base_number|    date|active_vehicles|trips|\n",
      "+-----------------------+--------+---------------+-----+\n",
      "|                 B02512|1/1/2015|            190| 1132|\n",
      "|                 B02765|1/1/2015|            225| 1765|\n",
      "|                 B02764|1/1/2015|           3427|29421|\n",
      "|                 B02682|1/1/2015|            945| 7679|\n",
      "|                 B02617|1/1/2015|           1228| 9537|\n",
      "|                 B02598|1/1/2015|            870| 6903|\n",
      "|                 B02598|1/2/2015|            785| 4768|\n",
      "|                 B02617|1/2/2015|           1137| 7065|\n",
      "|                 B02512|1/2/2015|            175|  875|\n",
      "|                 B02682|1/2/2015|            890| 5506|\n",
      "|                 B02765|1/2/2015|            196| 1001|\n",
      "|                 B02764|1/2/2015|           3147|19974|\n",
      "|                 B02765|1/3/2015|            201| 1526|\n",
      "|                 B02617|1/3/2015|           1188|10664|\n",
      "|                 B02598|1/3/2015|            818| 7432|\n",
      "|                 B02682|1/3/2015|            915| 8010|\n",
      "|                 B02512|1/3/2015|            173| 1088|\n",
      "|                 B02764|1/3/2015|           3215|29729|\n",
      "|                 B02512|1/4/2015|            147|  791|\n",
      "|                 B02682|1/4/2015|            812| 5621|\n",
      "+-----------------------+--------+---------------+-----+\n",
      "only showing top 20 rows\n",
      "\n"
     ]
    }
   ],
   "source": [
    "df2.show()"
   ]
  },
  {
   "cell_type": "code",
   "execution_count": 11,
   "metadata": {},
   "outputs": [
    {
     "data": {
      "text/plain": [
       "StructType(List(StructField(dispatching_base_number,StringType,true),StructField(date,StringType,true),StructField(active_vehicles,IntegerType,true),StructField(trips,IntegerType,true)))"
      ]
     },
     "execution_count": 11,
     "metadata": {},
     "output_type": "execute_result"
    }
   ],
   "source": [
    "df2.schema"
   ]
  },
  {
   "cell_type": "code",
   "execution_count": 16,
   "metadata": {},
   "outputs": [],
   "source": [
    "df3 = spark.read.csv(\"D:/Documents/dataset/Crimes_-_2001_to_present.csv\", header=True, inferSchema=True)"
   ]
  },
  {
   "cell_type": "code",
   "execution_count": 17,
   "metadata": {},
   "outputs": [
    {
     "data": {
      "text/plain": [
       "6814395"
      ]
     },
     "execution_count": 17,
     "metadata": {},
     "output_type": "execute_result"
    }
   ],
   "source": [
    "df3.count()"
   ]
  },
  {
   "cell_type": "code",
   "execution_count": 18,
   "metadata": {},
   "outputs": [
    {
     "data": {
      "text/plain": [
       "StructType(List(StructField(ID,IntegerType,true),StructField(Case Number,StringType,true),StructField(Date,StringType,true),StructField(Block,StringType,true),StructField(IUCR,StringType,true),StructField(Primary Type,StringType,true),StructField(Description,StringType,true),StructField(Location Description,StringType,true),StructField(Arrest,BooleanType,true),StructField(Domestic,BooleanType,true),StructField(Beat,IntegerType,true),StructField(District,IntegerType,true),StructField(Ward,IntegerType,true),StructField(Community Area,IntegerType,true),StructField(FBI Code,StringType,true),StructField(X Coordinate,IntegerType,true),StructField(Y Coordinate,IntegerType,true),StructField(Year,IntegerType,true),StructField(Updated On,StringType,true),StructField(Latitude,DoubleType,true),StructField(Longitude,DoubleType,true),StructField(Location,StringType,true)))"
      ]
     },
     "execution_count": 18,
     "metadata": {},
     "output_type": "execute_result"
    }
   ],
   "source": [
    "df3.schema"
   ]
  },
  {
   "cell_type": "markdown",
   "metadata": {},
   "source": [
    "## Data Mining Process"
   ]
  },
  {
   "cell_type": "code",
   "execution_count": null,
   "metadata": {},
   "outputs": [],
   "source": []
  }
 ],
 "metadata": {
  "kernelspec": {
   "display_name": "Python 3",
   "language": "python",
   "name": "python3"
  },
  "language_info": {
   "codemirror_mode": {
    "name": "ipython",
    "version": 3
   },
   "file_extension": ".py",
   "mimetype": "text/x-python",
   "name": "python",
   "nbconvert_exporter": "python",
   "pygments_lexer": "ipython3",
   "version": "3.6.5"
  }
 },
 "nbformat": 4,
 "nbformat_minor": 2
}
