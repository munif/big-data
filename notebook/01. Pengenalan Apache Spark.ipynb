{
 "cells": [
  {
   "cell_type": "markdown",
   "metadata": {},
   "source": [
    "## Requirements\n",
    "1. Apache Spark binary (https://spark.apache.org/)\n",
    "2. For Windows: winutils (https://medium.com/@dvainrub/how-to-install-apache-spark-2-x-in-your-pc-e2047246ffc3)\n",
    "3. Setting ```JAVA_HOME```, ```SPARK_HOME```, and ```HADOOP_HOME```\n",
    "4. Python 3.x (from Anaconda distribution)\n",
    "5. ```findspark``` https://pypi.org/project/findspark/\n",
    "6. Jupyter Notebook (available from Anaconda installation)\n",
    "\n",
    "### References\n",
    "https://spark.apache.org/docs/2.3.3/sql-programming-guide.html"
   ]
  },
  {
   "cell_type": "markdown",
   "metadata": {},
   "source": [
    "## Spark Initialization"
   ]
  },
  {
   "cell_type": "code",
   "execution_count": 2,
   "metadata": {},
   "outputs": [],
   "source": [
    "# Import findspark to read SPARK_HOME and HADOOP_HOME\n",
    "import findspark\n",
    "findspark.init()"
   ]
  },
  {
   "cell_type": "code",
   "execution_count": 3,
   "metadata": {},
   "outputs": [],
   "source": [
    "# Import required library\n",
    "from pyspark.sql import SparkSession\n",
    "\n",
    "# Create Spark Session\n",
    "spark = SparkSession \\\n",
    "    .builder \\\n",
    "    .appName(\"Python Spark SQL basic example\") \\\n",
    "    .getOrCreate()"
   ]
  },
  {
   "cell_type": "code",
   "execution_count": 4,
   "metadata": {},
   "outputs": [
    {
     "name": "stdout",
     "output_type": "stream",
     "text": [
      "<pyspark.sql.session.SparkSession object at 0x0000018641DCB6A0>\n"
     ]
    }
   ],
   "source": [
    "# Print Spark object ID\n",
    "print(spark)"
   ]
  },
  {
   "cell_type": "markdown",
   "metadata": {},
   "source": [
    "## Loading Data using Spark"
   ]
  },
  {
   "cell_type": "code",
   "execution_count": 5,
   "metadata": {},
   "outputs": [],
   "source": [
    "df = spark.read.json(\"D://spark-2.3.1-bin-hadoop2.7//examples//src//main//resources//people.json\")"
   ]
  },
  {
   "cell_type": "code",
   "execution_count": 6,
   "metadata": {},
   "outputs": [
    {
     "name": "stdout",
     "output_type": "stream",
     "text": [
      "+----+-------+\n",
      "| age|   name|\n",
      "+----+-------+\n",
      "|null|Michael|\n",
      "|  30|   Andy|\n",
      "|  19| Justin|\n",
      "+----+-------+\n",
      "\n"
     ]
    }
   ],
   "source": [
    "df.show()"
   ]
  },
  {
   "cell_type": "code",
   "execution_count": 7,
   "metadata": {},
   "outputs": [
    {
     "data": {
      "text/plain": [
       "3"
      ]
     },
     "execution_count": 7,
     "metadata": {},
     "output_type": "execute_result"
    }
   ],
   "source": [
    "df.count()"
   ]
  },
  {
   "cell_type": "code",
   "execution_count": 11,
   "metadata": {},
   "outputs": [],
   "source": [
    "df2 = spark.read.csv(\"D:/Documents/dataset/Uber-Jan-Feb-FOIL.csv\", header=True, inferSchema=True)"
   ]
  },
  {
   "cell_type": "code",
   "execution_count": 12,
   "metadata": {},
   "outputs": [
    {
     "name": "stdout",
     "output_type": "stream",
     "text": [
      "+-----------------------+--------+---------------+-----+\n",
      "|dispatching_base_number|    date|active_vehicles|trips|\n",
      "+-----------------------+--------+---------------+-----+\n",
      "|                 B02512|1/1/2015|            190| 1132|\n",
      "|                 B02765|1/1/2015|            225| 1765|\n",
      "|                 B02764|1/1/2015|           3427|29421|\n",
      "|                 B02682|1/1/2015|            945| 7679|\n",
      "|                 B02617|1/1/2015|           1228| 9537|\n",
      "|                 B02598|1/1/2015|            870| 6903|\n",
      "|                 B02598|1/2/2015|            785| 4768|\n",
      "|                 B02617|1/2/2015|           1137| 7065|\n",
      "|                 B02512|1/2/2015|            175|  875|\n",
      "|                 B02682|1/2/2015|            890| 5506|\n",
      "|                 B02765|1/2/2015|            196| 1001|\n",
      "|                 B02764|1/2/2015|           3147|19974|\n",
      "|                 B02765|1/3/2015|            201| 1526|\n",
      "|                 B02617|1/3/2015|           1188|10664|\n",
      "|                 B02598|1/3/2015|            818| 7432|\n",
      "|                 B02682|1/3/2015|            915| 8010|\n",
      "|                 B02512|1/3/2015|            173| 1088|\n",
      "|                 B02764|1/3/2015|           3215|29729|\n",
      "|                 B02512|1/4/2015|            147|  791|\n",
      "|                 B02682|1/4/2015|            812| 5621|\n",
      "+-----------------------+--------+---------------+-----+\n",
      "only showing top 20 rows\n",
      "\n"
     ]
    }
   ],
   "source": [
    "df2.show()"
   ]
  },
  {
   "cell_type": "code",
   "execution_count": 13,
   "metadata": {},
   "outputs": [
    {
     "data": {
      "text/plain": [
       "StructType(List(StructField(dispatching_base_number,StringType,true),StructField(date,StringType,true),StructField(active_vehicles,IntegerType,true),StructField(trips,IntegerType,true)))"
      ]
     },
     "execution_count": 13,
     "metadata": {},
     "output_type": "execute_result"
    }
   ],
   "source": [
    "df2.schema"
   ]
  },
  {
   "cell_type": "code",
   "execution_count": 14,
   "metadata": {},
   "outputs": [],
   "source": [
    "# Datasets can be downloaded from https://catalog.data.gov/dataset/crimes-2001-to-present-398a4\n",
    "\n",
    "df3 = spark.read.csv(\"D:/Documents/dataset/Crimes_-_2001_to_present.csv\", header=True, inferSchema=True)"
   ]
  },
  {
   "cell_type": "code",
   "execution_count": 15,
   "metadata": {},
   "outputs": [
    {
     "data": {
      "text/plain": [
       "6814395"
      ]
     },
     "execution_count": 15,
     "metadata": {},
     "output_type": "execute_result"
    }
   ],
   "source": [
    "df3.count()"
   ]
  },
  {
   "cell_type": "code",
   "execution_count": 16,
   "metadata": {},
   "outputs": [
    {
     "name": "stdout",
     "output_type": "stream",
     "text": [
      "+-------+-----------+--------------------+--------------------+----+--------------------+--------------------+--------------------+------+--------+----+--------+----+--------------+--------+------------+------------+----+--------------------+------------+-------------+--------------------+\n",
      "|     ID|Case Number|                Date|               Block|IUCR|        Primary Type|         Description|Location Description|Arrest|Domestic|Beat|District|Ward|Community Area|FBI Code|X Coordinate|Y Coordinate|Year|          Updated On|    Latitude|    Longitude|            Location|\n",
      "+-------+-----------+--------------------+--------------------+----+--------------------+--------------------+--------------------+------+--------+----+--------+----+--------------+--------+------------+------------+----+--------------------+------------+-------------+--------------------+\n",
      "|4080779|   HL424670|06/16/2005 02:30:...| 076XX S SANGAMON ST|1320|     CRIMINAL DAMAGE|          TO VEHICLE|              STREET| false|   false| 621|       6|  17|            71|      14|     1171300|     1854132|2005|02/28/2018 03:56:...|41.755202597|-87.647798816|(41.755202597, -8...|\n",
      "|4080781|   HL419721|06/14/2005 01:00:...| 050XX S KILDARE AVE|0820|               THEFT|      $500 AND UNDER|VEHICLE NON-COMME...| false|   false| 815|       8|  23|            57|      06|     1148545|     1870965|2005|02/28/2018 03:56:...|41.801862389|-87.730758417|(41.801862389, -8...|\n",
      "|4080782|   HL422657|06/10/2005 11:30:...|  012XX N BURLING ST|0520|             ASSAULT|AGGRAVATED:KNIFE/...|              STREET| false|   false|1822|      18|  27|             8|     04A|     1171084|     1908425|2005|02/28/2018 03:56:...|41.904192368|-87.647000785|(41.904192368, -8...|\n",
      "|4080783|   HL421501|06/14/2005 11:10:...|104XX S WENTWORTH...|3730|INTERFERENCE WITH...| OBSTRUCTING JUSTICE|           RESIDENCE|  true|   false| 512|       5|  34|            49|      24|     1176803|     1835501|2005|02/28/2018 03:56:...|41.703954619|-87.628191222|(41.703954619, -8...|\n",
      "|4080784|   HL355039|05/13/2005 11:13:...| 051XX W BELMONT AVE|1811|           NARCOTICS|POSS: CANNABIS 30...|              STREET|  true|   false|1634|      16|  30|            15|      18|     1141605|     1920791|2005|02/28/2018 03:56:...|41.938722135|-87.754979376|(41.938722135, -8...|\n",
      "|4080786|   HL425130|06/13/2005 03:10:...| 031XX W HARRISON ST|1120|  DECEPTIVE PRACTICE|             FORGERY|               OTHER| false|   false|1134|      11|  24|            27|      10|     1155457|     1897193|2005|02/28/2018 03:56:...|41.873699424|-87.704705156|(41.873699424, -8...|\n",
      "|4080787|   HL423034|06/15/2005 06:10:...| 072XX S LANGLEY AVE|1320|     CRIMINAL DAMAGE|          TO VEHICLE|               ALLEY| false|   false| 323|       3|   6|            69|      14|     1182148|     1857170|2005|02/28/2018 03:56:...|41.763295102| -87.60795022|(41.763295102, -8...|\n",
      "|4080791|   HL360338|05/16/2005 07:28:...|     014XX W 88TH ST|1811|           NARCOTICS|POSS: CANNABIS 30...|            SIDEWALK|  true|   false|2222|      22|  21|            71|      18|     1168351|     1846394|2005|02/28/2018 03:56:...|41.734032416|-87.658828397|(41.734032416, -8...|\n",
      "|4080793|   HL421117|06/14/2005 08:15:...|008XX W MARQUETTE RD|0460|             BATTERY|              SIMPLE|               ALLEY| false|   false| 723|       7|  16|            68|     08B|     1171957|     1860427|2005|02/28/2018 03:56:...|41.772462462|-87.645206539|(41.772462462, -8...|\n",
      "|4080794|   HL423901|06/14/2005 04:30:...| 056XX S CALUMET AVE|0486|             BATTERY|DOMESTIC BATTERY ...|              STREET| false|    true| 234|       2|  20|            40|     08B|     1179444|     1867797|2005|02/28/2018 03:56:...|41.792518802|-87.617536606|(41.792518802, -8...|\n",
      "|4080795|   HL421673|06/15/2005 03:15:...| 012XX W GUNNISON ST|502P|       OTHER OFFENSE|FALSE/STOLEN/ALTE...|              STREET| false|   false|2033|      20|  48|             3|      26|     1167294|     1932462|2005|02/28/2018 03:56:...|41.970233435|-87.660229117|(41.970233435, -8...|\n",
      "|4080796|   HL420377|06/14/2005 02:59:...|   073XX S EVANS AVE|0460|             BATTERY|              SIMPLE|SCHOOL, PUBLIC, B...| false|   false| 323|       3|   6|            69|     08B|     1182497|     1856441|2005|02/28/2018 03:56:...|41.761286569|-87.606693651|(41.761286569, -8...|\n",
      "|4080797|   HL426189|05/17/2005 09:00:...|  062XX S SEELEY AVE|1310|     CRIMINAL DAMAGE|         TO PROPERTY|           APARTMENT| false|   false| 714|       7|  15|            67|      14|     1163767|     1863325|2005|02/28/2018 03:56:...|41.780590862|-87.675147511|(41.780590862, -8...|\n",
      "|4080801|   HL407361|06/08/2005 04:30:...|016XX E HYDE PARK...|0320|             ROBBERY|STRONGARM - NO WE...|            SIDEWALK|  true|   false|2132|       2|   4|            41|      03|     1188104|     1871510|2005|02/28/2018 03:56:...|41.802505287|-87.585663616|(41.802505287, -8...|\n",
      "|4080808|   HL419786|06/14/2005 05:00:...|  064XX S KEDZIE AVE|0820|               THEFT|      $500 AND UNDER|VEHICLE NON-COMME...| false|   false| 823|       8|  15|            66|      06|     1156155|     1861929|2005|02/28/2018 03:56:...|41.776916526|-87.703092193|(41.776916526, -8...|\n",
      "|4080809|   HL419715|06/13/2005 10:00:...|   067XX S EVANS AVE|1320|     CRIMINAL DAMAGE|          TO VEHICLE|              STREET| false|   false| 321|       3|  20|            42|      14|     1182376|     1860505|2005|02/28/2018 03:56:...|41.772441392|-87.607011343|(41.772441392, -8...|\n",
      "|4080816|   HL424743|06/16/2005 03:05:...|  040XX N CICERO AVE|1150|  DECEPTIVE PRACTICE|   CREDIT CARD FRAUD|          DRUG STORE|  true|   false|1624|      16|  45|            15|      11|     1143644|     1926627|2005|02/28/2018 03:56:...|41.954698652|-87.747338823|(41.954698652, -8...|\n",
      "|4080817|   HL412252|06/10/2005 08:32:...|    007XX E 134TH ST|0560|             ASSAULT|              SIMPLE|            SIDEWALK| false|   false| 533|       5|   9|            54|     08A|     1183387|     1816571|2005|02/28/2018 03:56:...|41.651857579| -87.60466823|(41.651857579, -8...|\n",
      "|4080818|   HL415755|06/12/2005 01:32:...|  024XX S KEDZIE AVE|0486|             BATTERY|DOMESTIC BATTERY ...|           RESIDENCE|  true|   false|1033|      10|  24|            30|     08B|     1155414|     1887546|2005|02/28/2018 03:56:...| 41.84722786|-87.705122195|(41.84722786, -87...|\n",
      "|4080819|   HL424022|06/16/2005 08:20:...|018XX N CLYBOURN AVE|1330|   CRIMINAL TRESPASS|             TO LAND|     APPLIANCE STORE|  true|   false|1811|      18|  32|             7|      26|     1169186|     1911997|2005|02/28/2018 03:56:...|41.914035604|-87.653868654|(41.914035604, -8...|\n",
      "+-------+-----------+--------------------+--------------------+----+--------------------+--------------------+--------------------+------+--------+----+--------+----+--------------+--------+------------+------------+----+--------------------+------------+-------------+--------------------+\n",
      "only showing top 20 rows\n",
      "\n"
     ]
    }
   ],
   "source": [
    "df3.show()"
   ]
  },
  {
   "cell_type": "code",
   "execution_count": 15,
   "metadata": {},
   "outputs": [
    {
     "data": {
      "text/plain": [
       "StructType(List(StructField(ID,IntegerType,true),StructField(Case Number,StringType,true),StructField(Date,StringType,true),StructField(Block,StringType,true),StructField(IUCR,StringType,true),StructField(Primary Type,StringType,true),StructField(Description,StringType,true),StructField(Location Description,StringType,true),StructField(Arrest,BooleanType,true),StructField(Domestic,BooleanType,true),StructField(Beat,IntegerType,true),StructField(District,IntegerType,true),StructField(Ward,IntegerType,true),StructField(Community Area,IntegerType,true),StructField(FBI Code,StringType,true),StructField(X Coordinate,IntegerType,true),StructField(Y Coordinate,IntegerType,true),StructField(Year,IntegerType,true),StructField(Updated On,StringType,true),StructField(Latitude,DoubleType,true),StructField(Longitude,DoubleType,true),StructField(Location,StringType,true)))"
      ]
     },
     "execution_count": 15,
     "metadata": {},
     "output_type": "execute_result"
    }
   ],
   "source": [
    "df3.schema"
   ]
  },
  {
   "cell_type": "code",
   "execution_count": 17,
   "metadata": {},
   "outputs": [],
   "source": [
    "# Register the DataFrame as a SQL temporary view\n",
    "df3.createOrReplaceTempView(\"crimes\")"
   ]
  },
  {
   "cell_type": "code",
   "execution_count": 19,
   "metadata": {},
   "outputs": [],
   "source": [
    "result = spark.sql(\"SELECT DISTINCT Date FROM crimes\")"
   ]
  },
  {
   "cell_type": "code",
   "execution_count": 22,
   "metadata": {},
   "outputs": [
    {
     "name": "stdout",
     "output_type": "stream",
     "text": [
      "+--------------------+\n",
      "|                Date|\n",
      "+--------------------+\n",
      "|05/13/2005 11:00:...|\n",
      "|06/10/2005 11:30:...|\n",
      "|06/18/2005 10:35:...|\n",
      "|06/18/2005 10:45:...|\n",
      "|06/17/2005 05:50:...|\n",
      "|06/19/2005 01:00:...|\n",
      "|05/19/2005 06:27:...|\n",
      "|06/17/2005 06:15:...|\n",
      "|06/19/2005 04:20:...|\n",
      "|06/19/2005 07:10:...|\n",
      "|06/05/2005 09:00:...|\n",
      "|05/20/2005 07:00:...|\n",
      "|06/21/2005 04:40:...|\n",
      "|11/23/2004 08:31:...|\n",
      "|06/22/2005 05:41:...|\n",
      "|05/23/2005 12:30:...|\n",
      "|06/17/2005 09:41:...|\n",
      "|06/22/2005 10:45:...|\n",
      "|06/23/2005 09:33:...|\n",
      "|06/24/2005 11:38:...|\n",
      "+--------------------+\n",
      "only showing top 20 rows\n",
      "\n"
     ]
    }
   ],
   "source": [
    "result.show()"
   ]
  },
  {
   "cell_type": "markdown",
   "metadata": {},
   "source": [
    "## Data Mining Process"
   ]
  },
  {
   "cell_type": "code",
   "execution_count": 18,
   "metadata": {},
   "outputs": [],
   "source": [
    "# Data kejahatan yang terjadi suatu daerah\n",
    "# Gunakan backtick (`) untuk memanggil nama kolom dengan spasi\n",
    "\n",
    "query1 = spark.sql(\"SELECT Block, `Primary Type`, Description, `Location Description`, Location, COUNT(`Primary Type`) \\\n",
    "                    FROM crimes \\\n",
    "                    GROUP BY Block, `Primary Type`, Description, `Location Description`, Location \\\n",
    "                    ORDER BY count('Primary Type') DESC\")"
   ]
  },
  {
   "cell_type": "code",
   "execution_count": 54,
   "metadata": {},
   "outputs": [
    {
     "name": "stdout",
     "output_type": "stream",
     "text": [
      "+--------------------+------------------+--------------------+--------------------+--------------------+-------------------+\n",
      "|               Block|      Primary Type|         Description|Location Description|            Location|count(Primary Type)|\n",
      "+--------------------+------------------+--------------------+--------------------+--------------------+-------------------+\n",
      "|    001XX N STATE ST|             THEFT|        RETAIL THEFT|    DEPARTMENT STORE|(41.883500187, -8...|               4736|\n",
      "|  076XX S CICERO AVE|             THEFT|        RETAIL THEFT|    DEPARTMENT STORE|(41.754592961, -8...|               4036|\n",
      "|008XX N MICHIGAN AVE|             THEFT|        RETAIL THEFT|    DEPARTMENT STORE|(41.897895128, -8...|               2253|\n",
      "|    100XX W OHARE ST|     OTHER OFFENSE|OTHER WEAPONS VIO...|    AIRPORT/AIRCRAFT|(41.976290414, -8...|               2183|\n",
      "|   046XX W NORTH AVE|             THEFT|        RETAIL THEFT|    DEPARTMENT STORE|(41.909664252, -8...|               1864|\n",
      "|     040XX W LAKE ST|DECEPTIVE PRACTICE|THEFT OF LABOR/SE...|        CTA PLATFORM|(41.885487535, -8...|               1672|\n",
      "|085XX S COTTAGE G...|             THEFT|        RETAIL THEFT|    DEPARTMENT STORE|(41.739265865, -8...|               1557|\n",
      "|    008XX N STATE ST|DECEPTIVE PRACTICE|THEFT OF LABOR/SE...|        CTA PLATFORM|(41.896888586, -8...|               1465|\n",
      "|    100XX W OHARE ST|             THEFT|           OVER $500|    AIRPORT/AIRCRAFT|(41.976290414, -8...|               1274|\n",
      "|    0000X N STATE ST|             THEFT|        RETAIL THEFT|    DEPARTMENT STORE|(41.882394062, -8...|               1246|\n",
      "|    0000X N STATE ST|             THEFT|        RETAIL THEFT|    DEPARTMENT STORE|(41.88233367, -87...|               1231|\n",
      "|   017XX W HOWARD ST|             THEFT|        RETAIL THEFT|  GROCERY FOOD STORE|(42.019399237, -8...|               1227|\n",
      "|     021XX E 71ST ST|             THEFT|        RETAIL THEFT|  GROCERY FOOD STORE|(41.766102387, -8...|               1054|\n",
      "|    013XX S CANAL ST|             THEFT|        RETAIL THEFT|  GROCERY FOOD STORE|(41.864493678, -8...|               1053|\n",
      "|    100XX W OHARE ST|             THEFT|      $500 AND UNDER|    AIRPORT/AIRCRAFT|(41.976290414, -8...|                957|\n",
      "|047XX W IRVING PA...|             THEFT|        RETAIL THEFT|    DEPARTMENT STORE|(41.953436358, -8...|                930|\n",
      "|  026XX N ELSTON AVE|             THEFT|        RETAIL THEFT|    DEPARTMENT STORE|(41.929743818, -8...|                916|\n",
      "| 004XX W DIVISION ST|             THEFT|        RETAIL THEFT|  GROCERY FOOD STORE|(41.903775756, -8...|                915|\n",
      "|    100XX W OHARE ST| CRIMINAL TRESPASS|             TO LAND|    AIRPORT/AIRCRAFT|(41.976290414, -8...|                889|\n",
      "|    100XX W OHARE ST|             THEFT|       FROM BUILDING|    AIRPORT/AIRCRAFT|(41.976290414, -8...|                844|\n",
      "+--------------------+------------------+--------------------+--------------------+--------------------+-------------------+\n",
      "only showing top 20 rows\n",
      "\n"
     ]
    }
   ],
   "source": [
    "query1.show()"
   ]
  },
  {
   "cell_type": "code",
   "execution_count": 19,
   "metadata": {},
   "outputs": [
    {
     "name": "stdout",
     "output_type": "stream",
     "text": [
      "Pixiedust database opened successfully\n"
     ]
    },
    {
     "data": {
      "text/html": [
       "\n",
       "        <div style=\"margin:10px\">\n",
       "            <a href=\"https://github.com/ibm-watson-data-lab/pixiedust\" target=\"_new\">\n",
       "                <img src=\"https://github.com/ibm-watson-data-lab/pixiedust/raw/master/docs/_static/pd_icon32.png\" style=\"float:left;margin-right:10px\"/>\n",
       "            </a>\n",
       "            <span>Pixiedust version 1.1.15</span>\n",
       "        </div>\n",
       "        "
      ],
      "text/plain": [
       "<IPython.core.display.HTML object>"
      ]
     },
     "metadata": {},
     "output_type": "display_data"
    }
   ],
   "source": [
    "# Instalasi PixieDust\n",
    "# 1. Matplotlib\n",
    "# 2. Bokeh\n",
    "# 3. pixiedust\n",
    "\n",
    "import pixiedust"
   ]
  },
  {
   "cell_type": "code",
   "execution_count": 20,
   "metadata": {
    "pixiedust": {
     "displayParams": {
      "handlerId": "barChart",
      "keyFields": "Block",
      "valueFields": "count(Primary Type)"
     }
    }
   },
   "outputs": [],
   "source": [
    "display(query1)"
   ]
  },
  {
   "cell_type": "code",
   "execution_count": 56,
   "metadata": {},
   "outputs": [],
   "source": [
    "# Jumlah kriminalitas dalam tiap hari\n",
    "# Konversi tanggal dari String to Date\n",
    "# 05/13/2005 --> MM/DD/YYYY\n",
    "\n",
    "query2 = spark.sql(\"SELECT TO_DATE(`Date`, 'MM/DD/YYYY') AS date, COUNT(`Date`) \\\n",
    "                    FROM crimes \\\n",
    "                    GROUP BY `Date` \\\n",
    "                    ORDER BY `Date` DESC\")"
   ]
  },
  {
   "cell_type": "code",
   "execution_count": 57,
   "metadata": {},
   "outputs": [
    {
     "name": "stdout",
     "output_type": "stream",
     "text": [
      "+----------+-----------+\n",
      "|      date|count(Date)|\n",
      "+----------+-----------+\n",
      "|2017-01-01|          1|\n",
      "|2017-01-01|          2|\n",
      "|2017-01-01|          1|\n",
      "|2017-01-01|          1|\n",
      "|2017-01-01|          1|\n",
      "|2017-01-01|          2|\n",
      "|2017-01-01|          1|\n",
      "|2017-01-01|          1|\n",
      "|2017-01-01|          1|\n",
      "|2017-01-01|          2|\n",
      "|2017-01-01|          1|\n",
      "|2017-01-01|          1|\n",
      "|2017-01-01|          1|\n",
      "|2017-01-01|          1|\n",
      "|2017-01-01|          3|\n",
      "|2017-01-01|          1|\n",
      "|2017-01-01|          1|\n",
      "|2017-01-01|          1|\n",
      "|2017-01-01|          1|\n",
      "|2017-01-01|          8|\n",
      "+----------+-----------+\n",
      "only showing top 20 rows\n",
      "\n"
     ]
    }
   ],
   "source": [
    "query2.show()"
   ]
  },
  {
   "cell_type": "code",
   "execution_count": 58,
   "metadata": {},
   "outputs": [],
   "source": [
    "# Daftar Kejahatan dan Sub Kategori yang paling banyak terjadi\n",
    "\n",
    "query3 = spark.sql(\"SELECT `Primary Type`, Description, COUNT(Description) \\\n",
    "                    FROM crimes \\\n",
    "                    GROUP BY `Primary Type`, Description\\\n",
    "                    ORDER BY COUNT(Description) DESC\")"
   ]
  },
  {
   "cell_type": "code",
   "execution_count": 60,
   "metadata": {
    "scrolled": true
   },
   "outputs": [
    {
     "name": "stdout",
     "output_type": "stream",
     "text": [
      "+-------------------+--------------------+------------------+\n",
      "|       Primary Type|         Description|count(Description)|\n",
      "+-------------------+--------------------+------------------+\n",
      "|              THEFT|      $500 AND UNDER|            552709|\n",
      "|            BATTERY|DOMESTIC BATTERY ...|            523311|\n",
      "|            BATTERY|              SIMPLE|            506627|\n",
      "|    CRIMINAL DAMAGE|          TO VEHICLE|            365611|\n",
      "|    CRIMINAL DAMAGE|         TO PROPERTY|            358101|\n",
      "|              THEFT|           OVER $500|            352326|\n",
      "|            ASSAULT|              SIMPLE|            293835|\n",
      "|          NARCOTICS|POSS: CANNABIS 30...|            276990|\n",
      "|           BURGLARY|      FORCIBLE ENTRY|            264670|\n",
      "|MOTOR VEHICLE THEFT|          AUTOMOBILE|            248586|\n",
      "|              THEFT|       FROM BUILDING|            229884|\n",
      "|              THEFT|        RETAIL THEFT|            170081|\n",
      "|      OTHER OFFENSE|    TELEPHONE THREAT|            135461|\n",
      "|  CRIMINAL TRESPASS|             TO LAND|            120809|\n",
      "|          NARCOTICS|         POSS: CRACK|            119450|\n",
      "|           BURGLARY|      UNLAWFUL ENTRY|            103871|\n",
      "|      OTHER OFFENSE|HARASSMENT BY TEL...|            101140|\n",
      "|          NARCOTICS| POSS: HEROIN(WHITE)|             92653|\n",
      "|            ROBBERY|      ARMED: HANDGUN|             91358|\n",
      "|            ROBBERY|STRONGARM - NO WE...|             89411|\n",
      "+-------------------+--------------------+------------------+\n",
      "only showing top 20 rows\n",
      "\n"
     ]
    }
   ],
   "source": [
    "query3.show()"
   ]
  },
  {
   "cell_type": "code",
   "execution_count": 62,
   "metadata": {},
   "outputs": [],
   "source": [
    "# Save the results to CSV --> partitioned CSV\n",
    "query3.write \\\n",
    "  .option(\"header\", \"true\") \\\n",
    "  .csv(\"file:///D:/Documents/dataset/query3.csv\")"
   ]
  },
  {
   "cell_type": "code",
   "execution_count": 63,
   "metadata": {},
   "outputs": [],
   "source": [
    "# Convert to Pandas\n",
    "import pandas as pd\n",
    "queryPandas = query3.toPandas()"
   ]
  },
  {
   "cell_type": "code",
   "execution_count": 66,
   "metadata": {},
   "outputs": [],
   "source": [
    "# Save to single CSV\n",
    "queryPandas.to_csv(\"D:/Documents/dataset/queryPandas.csv\", index=False)"
   ]
  }
 ],
 "metadata": {
  "kernelspec": {
   "display_name": "Python 3",
   "language": "python",
   "name": "python3"
  },
  "language_info": {
   "codemirror_mode": {
    "name": "ipython",
    "version": 3
   },
   "file_extension": ".py",
   "mimetype": "text/x-python",
   "name": "python",
   "nbconvert_exporter": "python",
   "pygments_lexer": "ipython3",
   "version": "3.6.5"
  }
 },
 "nbformat": 4,
 "nbformat_minor": 2
}
