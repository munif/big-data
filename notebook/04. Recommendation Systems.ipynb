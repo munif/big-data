{
 "cells": [
  {
   "cell_type": "code",
   "execution_count": 1,
   "metadata": {},
   "outputs": [],
   "source": [
    "import findspark\n",
    "findspark.init()"
   ]
  },
  {
   "cell_type": "code",
   "execution_count": 2,
   "metadata": {},
   "outputs": [
    {
     "name": "stdout",
     "output_type": "stream",
     "text": [
      "<pyspark.sql.session.SparkSession object at 0x000001EF02246C88>\n"
     ]
    }
   ],
   "source": [
    "from pyspark.sql import SparkSession\n",
    "\n",
    "# Create Spark Session\n",
    "spark = SparkSession \\\n",
    "    .builder \\\n",
    "    .appName(\"Python Spark Frequent Itemsets Example\") \\\n",
    "    .getOrCreate()\n",
    "\n",
    "print(spark)"
   ]
  },
  {
   "cell_type": "code",
   "execution_count": 3,
   "metadata": {},
   "outputs": [],
   "source": [
    "from pyspark.ml.evaluation import RegressionEvaluator\n",
    "from pyspark.ml.recommendation import ALS\n",
    "from pyspark.sql import Row"
   ]
  },
  {
   "cell_type": "markdown",
   "metadata": {},
   "source": [
    "## Praproses\n",
    "\n",
    "Praproses digunakan untuk membaca data user rating. Sesuaikan dengan dataset."
   ]
  },
  {
   "cell_type": "code",
   "execution_count": 11,
   "metadata": {},
   "outputs": [
    {
     "name": "stdout",
     "output_type": "stream",
     "text": [
      "[Row(value='0::2::3::1424380312'), Row(value='0::3::1::1424380312'), Row(value='0::5::2::1424380312'), Row(value='0::9::4::1424380312'), Row(value='0::11::1::1424380312')]\n"
     ]
    }
   ],
   "source": [
    "lines = spark.read.text(\"sample_movielens_ratings.txt\").rdd\n",
    "print(lines.take(5))"
   ]
  },
  {
   "cell_type": "code",
   "execution_count": 17,
   "metadata": {},
   "outputs": [],
   "source": [
    "parts = lines.map(lambda row: row.value.split(\"::\"))"
   ]
  },
  {
   "cell_type": "code",
   "execution_count": 24,
   "metadata": {},
   "outputs": [],
   "source": [
    "ratingsRDD = parts.map(lambda p: Row(userId=int(p[0]), movieId=int(p[1]),\n",
    "                                     rating=float(p[2]), timestamp=int(p[3])))"
   ]
  },
  {
   "cell_type": "code",
   "execution_count": 25,
   "metadata": {},
   "outputs": [
    {
     "name": "stdout",
     "output_type": "stream",
     "text": [
      "[Row(movieId=2, rating=3.0, timestamp=1424380312, userId=0), Row(movieId=3, rating=1.0, timestamp=1424380312, userId=0), Row(movieId=5, rating=2.0, timestamp=1424380312, userId=0), Row(movieId=9, rating=4.0, timestamp=1424380312, userId=0), Row(movieId=11, rating=1.0, timestamp=1424380312, userId=0)]\n"
     ]
    }
   ],
   "source": [
    "print(ratingsRDD.take(5))"
   ]
  },
  {
   "cell_type": "code",
   "execution_count": 27,
   "metadata": {},
   "outputs": [
    {
     "name": "stdout",
     "output_type": "stream",
     "text": [
      "+-------+------+----------+------+\n",
      "|movieId|rating| timestamp|userId|\n",
      "+-------+------+----------+------+\n",
      "|      2|   3.0|1424380312|     0|\n",
      "|      3|   1.0|1424380312|     0|\n",
      "|      5|   2.0|1424380312|     0|\n",
      "|      9|   4.0|1424380312|     0|\n",
      "|     11|   1.0|1424380312|     0|\n",
      "|     12|   2.0|1424380312|     0|\n",
      "|     15|   1.0|1424380312|     0|\n",
      "|     17|   1.0|1424380312|     0|\n",
      "|     19|   1.0|1424380312|     0|\n",
      "|     21|   1.0|1424380312|     0|\n",
      "|     23|   1.0|1424380312|     0|\n",
      "|     26|   3.0|1424380312|     0|\n",
      "|     27|   1.0|1424380312|     0|\n",
      "|     28|   1.0|1424380312|     0|\n",
      "|     29|   1.0|1424380312|     0|\n",
      "|     30|   1.0|1424380312|     0|\n",
      "|     31|   1.0|1424380312|     0|\n",
      "|     34|   1.0|1424380312|     0|\n",
      "|     37|   1.0|1424380312|     0|\n",
      "|     41|   2.0|1424380312|     0|\n",
      "+-------+------+----------+------+\n",
      "only showing top 20 rows\n",
      "\n"
     ]
    }
   ],
   "source": [
    "ratings = spark.createDataFrame(ratingsRDD)\n",
    "ratings.show()"
   ]
  },
  {
   "cell_type": "markdown",
   "metadata": {},
   "source": [
    "## Create Model"
   ]
  },
  {
   "cell_type": "code",
   "execution_count": 28,
   "metadata": {},
   "outputs": [],
   "source": [
    "(training, test) = ratings.randomSplit([0.8, 0.2])"
   ]
  },
  {
   "cell_type": "code",
   "execution_count": 29,
   "metadata": {},
   "outputs": [],
   "source": [
    "# Build the recommendation model using ALS on the training data\n",
    "# Note we set cold start strategy to 'drop' to ensure we don't get NaN evaluation metrics\n",
    "als = ALS(maxIter=5, regParam=0.01, userCol=\"userId\", itemCol=\"movieId\", ratingCol=\"rating\",\n",
    "          coldStartStrategy=\"drop\")\n",
    "model = als.fit(training)"
   ]
  },
  {
   "cell_type": "code",
   "execution_count": 30,
   "metadata": {},
   "outputs": [
    {
     "name": "stdout",
     "output_type": "stream",
     "text": [
      "Root-mean-square error = 1.7234586840615076\n"
     ]
    }
   ],
   "source": [
    "# Evaluate the model by computing the RMSE on the test data\n",
    "predictions = model.transform(test)\n",
    "evaluator = RegressionEvaluator(metricName=\"rmse\", labelCol=\"rating\",\n",
    "                                predictionCol=\"prediction\")\n",
    "rmse = evaluator.evaluate(predictions)\n",
    "print(\"Root-mean-square error = \" + str(rmse))"
   ]
  },
  {
   "cell_type": "code",
   "execution_count": 31,
   "metadata": {},
   "outputs": [],
   "source": [
    "# Generate top 10 movie recommendations for each user\n",
    "userRecs = model.recommendForAllUsers(10)\n",
    "# Generate top 10 user recommendations for each movie\n",
    "movieRecs = model.recommendForAllItems(10)"
   ]
  },
  {
   "cell_type": "code",
   "execution_count": 32,
   "metadata": {},
   "outputs": [
    {
     "name": "stdout",
     "output_type": "stream",
     "text": [
      "+------+--------------------+\n",
      "|userId|     recommendations|\n",
      "+------+--------------------+\n",
      "|    28|[[81, 4.8676157],...|\n",
      "|    26|[[90, 5.7242403],...|\n",
      "|    27|[[69, 4.5157194],...|\n",
      "|    12|[[17, 4.8915787],...|\n",
      "|    22|[[39, 5.1836114],...|\n",
      "|     1|[[51, 4.562784], ...|\n",
      "|    13|[[76, 3.2516534],...|\n",
      "|     6|[[25, 4.856877], ...|\n",
      "|    16|[[85, 5.1414394],...|\n",
      "|     3|[[85, 4.76359], [...|\n",
      "|    20|[[22, 4.468463], ...|\n",
      "|     5|[[90, 4.2194633],...|\n",
      "|    19|[[90, 3.9035926],...|\n",
      "|    15|[[46, 4.9867916],...|\n",
      "|    17|[[46, 5.169761], ...|\n",
      "|     9|[[31, 4.4160566],...|\n",
      "|     4|[[77, 4.1378527],...|\n",
      "|     8|[[29, 5.15897], [...|\n",
      "|    23|[[17, 5.540481], ...|\n",
      "|     7|[[25, 4.7176924],...|\n",
      "+------+--------------------+\n",
      "only showing top 20 rows\n",
      "\n"
     ]
    }
   ],
   "source": [
    "userRecs.show()"
   ]
  },
  {
   "cell_type": "code",
   "execution_count": 33,
   "metadata": {},
   "outputs": [
    {
     "name": "stdout",
     "output_type": "stream",
     "text": [
      "+-------+--------------------+\n",
      "|movieId|     recommendations|\n",
      "+-------+--------------------+\n",
      "|     31|[[9, 4.4160566], ...|\n",
      "|     85|[[16, 5.1414394],...|\n",
      "|     65|[[23, 4.8290615],...|\n",
      "|     53|[[22, 5.088476], ...|\n",
      "|     78|[[26, 1.8592147],...|\n",
      "|     34|[[2, 3.986309], [...|\n",
      "|     81|[[28, 4.8676157],...|\n",
      "|     28|[[18, 5.100177], ...|\n",
      "|     76|[[14, 4.9362936],...|\n",
      "|     26|[[0, 2.913889], [...|\n",
      "|     27|[[11, 4.890229], ...|\n",
      "|     44|[[25, 4.750662], ...|\n",
      "|     12|[[22, 5.0110507],...|\n",
      "|     91|[[12, 3.1462245],...|\n",
      "|     22|[[26, 5.1236525],...|\n",
      "|     93|[[14, 3.0236852],...|\n",
      "|     47|[[7, 4.0010138], ...|\n",
      "|      1|[[15, 3.775174], ...|\n",
      "|     52|[[24, 5.166397], ...|\n",
      "|     13|[[11, 4.1079755],...|\n",
      "+-------+--------------------+\n",
      "only showing top 20 rows\n",
      "\n"
     ]
    }
   ],
   "source": [
    "movieRecs.show()"
   ]
  },
  {
   "cell_type": "code",
   "execution_count": null,
   "metadata": {},
   "outputs": [],
   "source": []
  }
 ],
 "metadata": {
  "kernelspec": {
   "display_name": "Python 3",
   "language": "python",
   "name": "python3"
  },
  "language_info": {
   "codemirror_mode": {
    "name": "ipython",
    "version": 3
   },
   "file_extension": ".py",
   "mimetype": "text/x-python",
   "name": "python",
   "nbconvert_exporter": "python",
   "pygments_lexer": "ipython3",
   "version": "3.6.5"
  }
 },
 "nbformat": 4,
 "nbformat_minor": 2
}
